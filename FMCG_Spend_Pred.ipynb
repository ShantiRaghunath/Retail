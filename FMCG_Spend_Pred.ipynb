{
 "cells": [
  {
   "cell_type": "code",
   "execution_count": null,
   "metadata": {
    "vscode": {
     "languageId": "plaintext"
    }
   },
   "outputs": [],
   "source": [
    "import pandas as pd  # For data manipulation and analysis\n",
    "import numpy as np  # For numerical computations\n",
    "import seaborn as sns  # For data visualization\n",
    "from datetime import datetime  # To handle date and time data\n",
    "import matplotlib.pyplot as plt  # For plotting static visualizations\n",
    "from sklearn.preprocessing import StandardScaler  # For scaling numerical features\n",
    "import time  # To measure time and performance\n",
    "from snowflake.snowpark.session import Session  # For Snowflake data connection and session management\n",
    "from plotly.subplots import make_subplots  # For creating subplots in Plotly\n",
    "import plotly.graph_objects as go  # To create interactive Plotly visualizations\n",
    "\n",
    "# Configure pandas to display more columns for better inspection of data\n",
    "pd.set_option('display.max_columns', 100)\n",
    "\n",
    "\n"
   ]
  },
  {
   "cell_type": "markdown",
   "metadata": {},
   "source": [
    "#from fosforml.model_manager.snowflakesession import get_session\n",
    "\n",
    "# Establish a Snowflake session using the configured session manager\n",
    "# The session will allow you to execute SQL queries and retrieve data from Snowflake\n",
    "my_session = get_session()\n",
    "\n",
    "#  Define the name of the table you want to query from Snowflake\n",
    "# This table should contain the data for order statuses, including DELIVERED, IN PROCESS, CANCELLED, and RETURNED orders\n",
    "table_name = 'ORDER_DATA_ML'\n",
    "\n",
    "#  Execute a SQL query to select all records from the specified Snowflake table\n",
    "# The data is retrieved from Snowflake and loaded into a Pandas DataFrame for further processing\n",
    "df = my_session.sql(f\"SELECT * FROM {table_name}\").to_pandas()\n",
    "\n",
    "# Display the first few rows of the retrieved DataFrame to verify the data load\n",
    "df.head()\n"
   ]
  }
 ],
 "metadata": {
  "language_info": {
   "name": "python"
  }
 },
 "nbformat": 4,
 "nbformat_minor": 2
}
